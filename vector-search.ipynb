{
 "cells": [
  {
   "cell_type": "code",
   "id": "initial_id",
   "metadata": {
    "collapsed": true,
    "ExecuteTime": {
     "end_time": "2025-09-05T23:58:49.151483Z",
     "start_time": "2025-09-05T23:58:49.149021Z"
    }
   },
   "source": [
    "from langchain_community.document_loaders import TextLoader\n",
    "from langchain_text_splitters import CharacterTextSplitter\n",
    "from langchain_openai import OpenAIEmbeddings\n",
    "from langchain_chroma import Chroma"
   ],
   "outputs": [],
   "execution_count": 35
  },
  {
   "metadata": {
    "ExecuteTime": {
     "end_time": "2025-09-05T23:58:49.161989Z",
     "start_time": "2025-09-05T23:58:49.158698Z"
    }
   },
   "cell_type": "code",
   "source": [
    "from dotenv import load_dotenv\n",
    "\n",
    "load_dotenv()"
   ],
   "id": "c4ee283ceb12a814",
   "outputs": [
    {
     "data": {
      "text/plain": [
       "True"
      ]
     },
     "execution_count": 36,
     "metadata": {},
     "output_type": "execute_result"
    }
   ],
   "execution_count": 36
  },
  {
   "metadata": {
    "ExecuteTime": {
     "end_time": "2025-09-05T23:58:49.188367Z",
     "start_time": "2025-09-05T23:58:49.178946Z"
    }
   },
   "cell_type": "code",
   "source": [
    "import pandas as pd\n",
    "\n",
    "webtoons = pd.read_csv(\"webtoons_cleaned.csv\")"
   ],
   "id": "f31c3f16f06e68fb",
   "outputs": [],
   "execution_count": 37
  },
  {
   "metadata": {
    "ExecuteTime": {
     "end_time": "2025-09-05T23:58:49.204665Z",
     "start_time": "2025-09-05T23:58:49.196721Z"
    }
   },
   "cell_type": "code",
   "source": "webtoons",
   "id": "6b098cd9b2bc067",
   "outputs": [
    {
     "data": {
      "text/plain": [
       "      id                      Name                      Writer     Likes  \\\n",
       "0      0                Let's Play  Leeanne M. Krecic (Mongie)     30.6M   \n",
       "1      1               True Beauty                     Yaongyi     39.9M   \n",
       "2      2       Midnight Poppy Land                    Lilydusk     10.4M   \n",
       "3      3               Age Matters                 Enjelicious     25.9M   \n",
       "4      4              Unholy Blood    Lina Im / Jeonghyeon Kim      9.9M   \n",
       "..   ...                       ...                         ...       ...   \n",
       "564  564       Third Shift Society           Meredith Moriarty  8,66,428   \n",
       "565  565                Adamsville              Michael Regina  1,84,981   \n",
       "566  566               WEBTOON Now      LOZOLZ / Wyatt the Cat      1.9M   \n",
       "567  567  Staying Healthy Together             Various Artists      1.5M   \n",
       "568  568        ã„´ã…‡ã„¹ã…‡ã„´ã„¹                      LOZOLZ  2,65,458   \n",
       "\n",
       "            Genre  Rating Subscribers  \\\n",
       "0         Romance    9.62        4.2M   \n",
       "1         Romance    9.60        6.4M   \n",
       "2         Romance    9.81        2.1M   \n",
       "3         Romance    9.79        3.5M   \n",
       "4    Supernatural    9.85        1.5M   \n",
       "..            ...     ...         ...   \n",
       "564  Supernatural    9.78      376.9K   \n",
       "565       Mystery    9.32       60.4K   \n",
       "566   Informative    9.25      459.2K   \n",
       "567   Informative    9.76      204.6K   \n",
       "568   Informative    8.83      109.1K   \n",
       "\n",
       "                                               Summary  \\\n",
       "0    She's young, single and about to achieve her d...   \n",
       "1    After binge-watching beauty videos online, a s...   \n",
       "2    After making a grisly discovery in the country...   \n",
       "3    She's a hopeless romantic who's turning 30's  ...   \n",
       "4    When vampires destroy her chance to have the n...   \n",
       "..                                                 ...   \n",
       "564  Life's funny. One minute you're jobless, deep ...   \n",
       "565  \"Adamsville\" is an all ages series about two m...   \n",
       "566                        Get your WEBTOON news here!   \n",
       "567  A series of tips for staying safe during the C...   \n",
       "568  The mysterious team that brings Webtoon to you...   \n",
       "\n",
       "                                          Reading Link  \\\n",
       "0    https://www.webtoons.com/en/romance/letsplay/l...   \n",
       "1    https://www.webtoons.com/en/romance/truebeauty...   \n",
       "2    https://www.webtoons.com/en/romance/midnight-p...   \n",
       "3    https://www.webtoons.com/en/romance/age-matter...   \n",
       "4    https://www.webtoons.com/en/supernatural/unhol...   \n",
       "..                                                 ...   \n",
       "564  https://www.webtoons.com/en/supernatural/third...   \n",
       "565  https://www.webtoons.com/en/mystery/adamsville...   \n",
       "566  https://www.webtoons.com/en/tiptoon/webtoon-no...   \n",
       "567  https://www.webtoons.com/en/tiptoon/staying-he...   \n",
       "568  https://www.webtoons.com/en/tiptoon/lozolz/lis...   \n",
       "\n",
       "                                        tagged_summary  \n",
       "0    0 She's young, single and about to achieve her...  \n",
       "1    1 After binge-watching beauty videos online, a...  \n",
       "2    2 After making a grisly discovery in the count...  \n",
       "3    3 She's a hopeless romantic who's turning 30's...  \n",
       "4    4 When vampires destroy her chance to have the...  \n",
       "..                                                 ...  \n",
       "564  564 Life's funny. One minute you're jobless, d...  \n",
       "565  565 \"Adamsville\" is an all ages series about t...  \n",
       "566                    566 Get your WEBTOON news here!  \n",
       "567  567 A series of tips for staying safe during t...  \n",
       "568  568 The mysterious team that brings Webtoon to...  \n",
       "\n",
       "[569 rows x 10 columns]"
      ],
      "text/html": [
       "<div>\n",
       "<style scoped>\n",
       "    .dataframe tbody tr th:only-of-type {\n",
       "        vertical-align: middle;\n",
       "    }\n",
       "\n",
       "    .dataframe tbody tr th {\n",
       "        vertical-align: top;\n",
       "    }\n",
       "\n",
       "    .dataframe thead th {\n",
       "        text-align: right;\n",
       "    }\n",
       "</style>\n",
       "<table border=\"1\" class=\"dataframe\">\n",
       "  <thead>\n",
       "    <tr style=\"text-align: right;\">\n",
       "      <th></th>\n",
       "      <th>id</th>\n",
       "      <th>Name</th>\n",
       "      <th>Writer</th>\n",
       "      <th>Likes</th>\n",
       "      <th>Genre</th>\n",
       "      <th>Rating</th>\n",
       "      <th>Subscribers</th>\n",
       "      <th>Summary</th>\n",
       "      <th>Reading Link</th>\n",
       "      <th>tagged_summary</th>\n",
       "    </tr>\n",
       "  </thead>\n",
       "  <tbody>\n",
       "    <tr>\n",
       "      <th>0</th>\n",
       "      <td>0</td>\n",
       "      <td>Let's Play</td>\n",
       "      <td>Leeanne M. Krecic (Mongie)</td>\n",
       "      <td>30.6M</td>\n",
       "      <td>Romance</td>\n",
       "      <td>9.62</td>\n",
       "      <td>4.2M</td>\n",
       "      <td>She's young, single and about to achieve her d...</td>\n",
       "      <td>https://www.webtoons.com/en/romance/letsplay/l...</td>\n",
       "      <td>0 She's young, single and about to achieve her...</td>\n",
       "    </tr>\n",
       "    <tr>\n",
       "      <th>1</th>\n",
       "      <td>1</td>\n",
       "      <td>True Beauty</td>\n",
       "      <td>Yaongyi</td>\n",
       "      <td>39.9M</td>\n",
       "      <td>Romance</td>\n",
       "      <td>9.60</td>\n",
       "      <td>6.4M</td>\n",
       "      <td>After binge-watching beauty videos online, a s...</td>\n",
       "      <td>https://www.webtoons.com/en/romance/truebeauty...</td>\n",
       "      <td>1 After binge-watching beauty videos online, a...</td>\n",
       "    </tr>\n",
       "    <tr>\n",
       "      <th>2</th>\n",
       "      <td>2</td>\n",
       "      <td>Midnight Poppy Land</td>\n",
       "      <td>Lilydusk</td>\n",
       "      <td>10.4M</td>\n",
       "      <td>Romance</td>\n",
       "      <td>9.81</td>\n",
       "      <td>2.1M</td>\n",
       "      <td>After making a grisly discovery in the country...</td>\n",
       "      <td>https://www.webtoons.com/en/romance/midnight-p...</td>\n",
       "      <td>2 After making a grisly discovery in the count...</td>\n",
       "    </tr>\n",
       "    <tr>\n",
       "      <th>3</th>\n",
       "      <td>3</td>\n",
       "      <td>Age Matters</td>\n",
       "      <td>Enjelicious</td>\n",
       "      <td>25.9M</td>\n",
       "      <td>Romance</td>\n",
       "      <td>9.79</td>\n",
       "      <td>3.5M</td>\n",
       "      <td>She's a hopeless romantic who's turning 30's  ...</td>\n",
       "      <td>https://www.webtoons.com/en/romance/age-matter...</td>\n",
       "      <td>3 She's a hopeless romantic who's turning 30's...</td>\n",
       "    </tr>\n",
       "    <tr>\n",
       "      <th>4</th>\n",
       "      <td>4</td>\n",
       "      <td>Unholy Blood</td>\n",
       "      <td>Lina Im / Jeonghyeon Kim</td>\n",
       "      <td>9.9M</td>\n",
       "      <td>Supernatural</td>\n",
       "      <td>9.85</td>\n",
       "      <td>1.5M</td>\n",
       "      <td>When vampires destroy her chance to have the n...</td>\n",
       "      <td>https://www.webtoons.com/en/supernatural/unhol...</td>\n",
       "      <td>4 When vampires destroy her chance to have the...</td>\n",
       "    </tr>\n",
       "    <tr>\n",
       "      <th>...</th>\n",
       "      <td>...</td>\n",
       "      <td>...</td>\n",
       "      <td>...</td>\n",
       "      <td>...</td>\n",
       "      <td>...</td>\n",
       "      <td>...</td>\n",
       "      <td>...</td>\n",
       "      <td>...</td>\n",
       "      <td>...</td>\n",
       "      <td>...</td>\n",
       "    </tr>\n",
       "    <tr>\n",
       "      <th>564</th>\n",
       "      <td>564</td>\n",
       "      <td>Third Shift Society</td>\n",
       "      <td>Meredith Moriarty</td>\n",
       "      <td>8,66,428</td>\n",
       "      <td>Supernatural</td>\n",
       "      <td>9.78</td>\n",
       "      <td>376.9K</td>\n",
       "      <td>Life's funny. One minute you're jobless, deep ...</td>\n",
       "      <td>https://www.webtoons.com/en/supernatural/third...</td>\n",
       "      <td>564 Life's funny. One minute you're jobless, d...</td>\n",
       "    </tr>\n",
       "    <tr>\n",
       "      <th>565</th>\n",
       "      <td>565</td>\n",
       "      <td>Adamsville</td>\n",
       "      <td>Michael Regina</td>\n",
       "      <td>1,84,981</td>\n",
       "      <td>Mystery</td>\n",
       "      <td>9.32</td>\n",
       "      <td>60.4K</td>\n",
       "      <td>\"Adamsville\" is an all ages series about two m...</td>\n",
       "      <td>https://www.webtoons.com/en/mystery/adamsville...</td>\n",
       "      <td>565 \"Adamsville\" is an all ages series about t...</td>\n",
       "    </tr>\n",
       "    <tr>\n",
       "      <th>566</th>\n",
       "      <td>566</td>\n",
       "      <td>WEBTOON Now</td>\n",
       "      <td>LOZOLZ / Wyatt the Cat</td>\n",
       "      <td>1.9M</td>\n",
       "      <td>Informative</td>\n",
       "      <td>9.25</td>\n",
       "      <td>459.2K</td>\n",
       "      <td>Get your WEBTOON news here!</td>\n",
       "      <td>https://www.webtoons.com/en/tiptoon/webtoon-no...</td>\n",
       "      <td>566 Get your WEBTOON news here!</td>\n",
       "    </tr>\n",
       "    <tr>\n",
       "      <th>567</th>\n",
       "      <td>567</td>\n",
       "      <td>Staying Healthy Together</td>\n",
       "      <td>Various Artists</td>\n",
       "      <td>1.5M</td>\n",
       "      <td>Informative</td>\n",
       "      <td>9.76</td>\n",
       "      <td>204.6K</td>\n",
       "      <td>A series of tips for staying safe during the C...</td>\n",
       "      <td>https://www.webtoons.com/en/tiptoon/staying-he...</td>\n",
       "      <td>567 A series of tips for staying safe during t...</td>\n",
       "    </tr>\n",
       "    <tr>\n",
       "      <th>568</th>\n",
       "      <td>568</td>\n",
       "      <td>ã„´ã…‡ã„¹ã…‡ã„´ã„¹</td>\n",
       "      <td>LOZOLZ</td>\n",
       "      <td>2,65,458</td>\n",
       "      <td>Informative</td>\n",
       "      <td>8.83</td>\n",
       "      <td>109.1K</td>\n",
       "      <td>The mysterious team that brings Webtoon to you...</td>\n",
       "      <td>https://www.webtoons.com/en/tiptoon/lozolz/lis...</td>\n",
       "      <td>568 The mysterious team that brings Webtoon to...</td>\n",
       "    </tr>\n",
       "  </tbody>\n",
       "</table>\n",
       "<p>569 rows × 10 columns</p>\n",
       "</div>"
      ]
     },
     "execution_count": 38,
     "metadata": {},
     "output_type": "execute_result"
    }
   ],
   "execution_count": 38
  },
  {
   "metadata": {
    "ExecuteTime": {
     "end_time": "2025-09-05T23:58:49.241035Z",
     "start_time": "2025-09-05T23:58:49.237536Z"
    }
   },
   "cell_type": "code",
   "source": "webtoons[\"tagged_summary\"]",
   "id": "84df8f5d0e453a8",
   "outputs": [
    {
     "data": {
      "text/plain": [
       "0      0 She's young, single and about to achieve her...\n",
       "1      1 After binge-watching beauty videos online, a...\n",
       "2      2 After making a grisly discovery in the count...\n",
       "3      3 She's a hopeless romantic who's turning 30's...\n",
       "4      4 When vampires destroy her chance to have the...\n",
       "                             ...                        \n",
       "564    564 Life's funny. One minute you're jobless, d...\n",
       "565    565 \"Adamsville\" is an all ages series about t...\n",
       "566                      566 Get your WEBTOON news here!\n",
       "567    567 A series of tips for staying safe during t...\n",
       "568    568 The mysterious team that brings Webtoon to...\n",
       "Name: tagged_summary, Length: 569, dtype: object"
      ]
     },
     "execution_count": 39,
     "metadata": {},
     "output_type": "execute_result"
    }
   ],
   "execution_count": 39
  },
  {
   "metadata": {
    "ExecuteTime": {
     "end_time": "2025-09-05T23:58:49.282696Z",
     "start_time": "2025-09-05T23:58:49.276873Z"
    }
   },
   "cell_type": "code",
   "source": [
    "webtoons[\"tagged_summary\"].to_csv(\"tagged_summary.txt\",\n",
    "                                  index = False,\n",
    "                                  header = False)"
   ],
   "id": "dc9b466e9f1d363a",
   "outputs": [],
   "execution_count": 40
  },
  {
   "metadata": {
    "ExecuteTime": {
     "end_time": "2025-09-05T23:58:49.341086Z",
     "start_time": "2025-09-05T23:58:49.338291Z"
    }
   },
   "cell_type": "code",
   "source": [
    "raw_documents = TextLoader(\"tagged_summary.txt\").load()\n",
    "text_splitter = CharacterTextSplitter(chunk_overlap=0, separator=\"\\n\")\n",
    "documents = text_splitter.split_documents(raw_documents)"
   ],
   "id": "267b652f2f083e44",
   "outputs": [],
   "execution_count": 41
  },
  {
   "metadata": {
    "ExecuteTime": {
     "end_time": "2025-09-05T23:58:49.368360Z",
     "start_time": "2025-09-05T23:58:49.365954Z"
    }
   },
   "cell_type": "code",
   "source": "documents[0]",
   "id": "22b83dab0cc3be5a",
   "outputs": [
    {
     "data": {
      "text/plain": [
       "Document(metadata={'source': 'tagged_summary.txt'}, page_content='\"0 She\\'s young, single and about to achieve her dream of creating incredible videogames. But then life throws her a one-two punch: a popular streamer gives her first game a scathing review. Even worse she finds out that same troublesome critic is now her new neighbor! A funny, sexy and all-too-real story about gaming, memes and social anxiety. Come for the plot, stay for the doggo.\"\\n\"1 After binge-watching beauty videos online, a shy comic book fan masters the art of makeup and sees her social standing skyrocket as she becomes her school\\'s prettiest pretty girl overnight. But will her elite status be short-lived? How long can she keep her real self a secret? And what about that cute boy who knows her secret?\"\\n\"2 After making a grisly discovery in the countryside, a small town book editor\\'s life gets entangled with a young Mafia lord and his intimidating bodyguard...even as every step she takes draws her deeper into the dangerous underworld of the city.\"\\n\"3 She\\'s a hopeless romantic who\\'s turning 30\\'s  and is not super happy about it. He\\'s a reclusive billionaire who\\'s hired her to be his assistant , and he\\'s not too happy about that either. Together they rewrite the rules of friendship, love, work and the BEST way to clean someone\\'s apartment.\"\\n\"4 When vampires destroy her chance to have the normal life she\\'s always wanted, Hayan is forced to draw on her darkest secret to rid the world of the merciless hunters that took it over 10 years ago. With the support of a rising star in the local police force, Hayan steps up to protect her loved ones, face her past, and get her revenge.\"\\n\"5 A runaway werewolf, Lumine, meets a witch boy named Kody and is being hired to work as his bodyguard. Lumine, being determined to befriend Kody, tries everything to get Kody to trust him, while Kody tries to keep Lumine away from him. Their life gets even more complicated after an unfortunate event that leaves them to try to survive on their own.\"\\n\"6 The year is 1989, and Jackson is starting his senior year at a brand new school. Even though he\\'s back in his hometown with his new family, he can\\'t seem to shake this ominous and uneasy feeling invading his mind. It\\'s not until he meets the popular kid, Exer, that reality starts to feel more like the work of his imagination.\"\\n\"7 At the age of eight, Ijin Yu lost his parents in a plane crash and became stranded in a foreign land, forced to become a child mercenary in order to stay alive. He returns home ten years later to be reunited with his family in Korea, where food and shelter are plenty and everything seems peaceful. But Ijin will soon learn that life as a teenager is a whole other feat of survival. With only one year of high school left, Ijin must master new tactics to maneuver his way around the schoolhouse battleground. Can he survive a year of high school? Or rather, will the school be able to survive him?\"\\n\"8 A ditsy university student Mew finds a lost student card. Instead of doing the sensible thing, Mew decides to let fate take the wheel and try something silly. Little did she know, she would be confronting the owner of the card, Daze who has some things to say about what she did. Did Mew make the biggest mistake of her life? or the best decision of her life? Follow these two adorable goofballs to find out!\"\\n\"9 Dogged by pain and misfortune from the very beginning, Shin-Ae decides she wants nothing to do with people nor anything to do with romance. Although content with her unsocial, boring, loveless existence, her lifestyle is challenged after she ruins an unsuspecting strangers\\' clothes.\"\\n\"10 After years of being told to focus on studying, Yeseul feels lost when she starts college and is suddenly expected to pay attention to makeup. When a chance encounter with brilliant makeup artist Yuseong leads to her taking part in a televised makeup competition, Yeseul begins to question the role that makeup and appearance play in society.\"')"
      ]
     },
     "execution_count": 42,
     "metadata": {},
     "output_type": "execute_result"
    }
   ],
   "execution_count": 42
  },
  {
   "metadata": {
    "ExecuteTime": {
     "end_time": "2025-09-06T00:00:49.891824Z",
     "start_time": "2025-09-06T00:00:49.293118Z"
    }
   },
   "cell_type": "code",
   "source": "db_webtoons = Chroma.from_documents(documents, embedding=OpenAIEmbeddings())",
   "id": "70d20a754824ed7f",
   "outputs": [
    {
     "ename": "AuthenticationError",
     "evalue": "Error code: 401 - {'error': {'message': \"You didn't provide an API key. You need to provide your API key in an Authorization header using Bearer auth (i.e. Authorization: Bearer YOUR_KEY), or as the password field (with blank username) if you're accessing the API from your browser and are prompted for a username and password. You can obtain an API key from https://platform.openai.com/account/api-keys.\", 'type': 'invalid_request_error', 'param': None, 'code': None}}",
     "output_type": "error",
     "traceback": [
      "\u001B[31m---------------------------------------------------------------------------\u001B[39m",
      "\u001B[31mAuthenticationError\u001B[39m                       Traceback (most recent call last)",
      "\u001B[36mCell\u001B[39m\u001B[36m \u001B[39m\u001B[32mIn[45]\u001B[39m\u001B[32m, line 1\u001B[39m\n\u001B[32m----> \u001B[39m\u001B[32m1\u001B[39m db_webtoons = \u001B[43mChroma\u001B[49m\u001B[43m.\u001B[49m\u001B[43mfrom_documents\u001B[49m\u001B[43m(\u001B[49m\u001B[43mdocuments\u001B[49m\u001B[43m,\u001B[49m\u001B[43m \u001B[49m\u001B[43membedding\u001B[49m\u001B[43m=\u001B[49m\u001B[43mOpenAIEmbeddings\u001B[49m\u001B[43m(\u001B[49m\u001B[43m)\u001B[49m\u001B[43m)\u001B[49m\n",
      "\u001B[36mFile \u001B[39m\u001B[32m~/PycharmProjects/ToonMate/.venv/lib/python3.13/site-packages/langchain_chroma/vectorstores.py:1371\u001B[39m, in \u001B[36mChroma.from_documents\u001B[39m\u001B[34m(cls, documents, embedding, ids, collection_name, persist_directory, host, port, headers, chroma_cloud_api_key, tenant, database, client_settings, client, collection_metadata, collection_configuration, ssl, **kwargs)\u001B[39m\n\u001B[32m   1369\u001B[39m \u001B[38;5;28;01mif\u001B[39;00m ids \u001B[38;5;129;01mis\u001B[39;00m \u001B[38;5;28;01mNone\u001B[39;00m:\n\u001B[32m   1370\u001B[39m     ids = [doc.id \u001B[38;5;28;01mif\u001B[39;00m doc.id \u001B[38;5;28;01melse\u001B[39;00m \u001B[38;5;28mstr\u001B[39m(uuid.uuid4()) \u001B[38;5;28;01mfor\u001B[39;00m doc \u001B[38;5;129;01min\u001B[39;00m documents]\n\u001B[32m-> \u001B[39m\u001B[32m1371\u001B[39m \u001B[38;5;28;01mreturn\u001B[39;00m \u001B[38;5;28;43mcls\u001B[39;49m\u001B[43m.\u001B[49m\u001B[43mfrom_texts\u001B[49m\u001B[43m(\u001B[49m\n\u001B[32m   1372\u001B[39m \u001B[43m    \u001B[49m\u001B[43mtexts\u001B[49m\u001B[43m=\u001B[49m\u001B[43mtexts\u001B[49m\u001B[43m,\u001B[49m\n\u001B[32m   1373\u001B[39m \u001B[43m    \u001B[49m\u001B[43membedding\u001B[49m\u001B[43m=\u001B[49m\u001B[43membedding\u001B[49m\u001B[43m,\u001B[49m\n\u001B[32m   1374\u001B[39m \u001B[43m    \u001B[49m\u001B[43mmetadatas\u001B[49m\u001B[43m=\u001B[49m\u001B[43mmetadatas\u001B[49m\u001B[43m,\u001B[49m\n\u001B[32m   1375\u001B[39m \u001B[43m    \u001B[49m\u001B[43mids\u001B[49m\u001B[43m=\u001B[49m\u001B[43mids\u001B[49m\u001B[43m,\u001B[49m\n\u001B[32m   1376\u001B[39m \u001B[43m    \u001B[49m\u001B[43mcollection_name\u001B[49m\u001B[43m=\u001B[49m\u001B[43mcollection_name\u001B[49m\u001B[43m,\u001B[49m\n\u001B[32m   1377\u001B[39m \u001B[43m    \u001B[49m\u001B[43mpersist_directory\u001B[49m\u001B[43m=\u001B[49m\u001B[43mpersist_directory\u001B[49m\u001B[43m,\u001B[49m\n\u001B[32m   1378\u001B[39m \u001B[43m    \u001B[49m\u001B[43mhost\u001B[49m\u001B[43m=\u001B[49m\u001B[43mhost\u001B[49m\u001B[43m,\u001B[49m\n\u001B[32m   1379\u001B[39m \u001B[43m    \u001B[49m\u001B[43mport\u001B[49m\u001B[43m=\u001B[49m\u001B[43mport\u001B[49m\u001B[43m,\u001B[49m\n\u001B[32m   1380\u001B[39m \u001B[43m    \u001B[49m\u001B[43mssl\u001B[49m\u001B[43m=\u001B[49m\u001B[43mssl\u001B[49m\u001B[43m,\u001B[49m\n\u001B[32m   1381\u001B[39m \u001B[43m    \u001B[49m\u001B[43mheaders\u001B[49m\u001B[43m=\u001B[49m\u001B[43mheaders\u001B[49m\u001B[43m,\u001B[49m\n\u001B[32m   1382\u001B[39m \u001B[43m    \u001B[49m\u001B[43mchroma_cloud_api_key\u001B[49m\u001B[43m=\u001B[49m\u001B[43mchroma_cloud_api_key\u001B[49m\u001B[43m,\u001B[49m\n\u001B[32m   1383\u001B[39m \u001B[43m    \u001B[49m\u001B[43mtenant\u001B[49m\u001B[43m=\u001B[49m\u001B[43mtenant\u001B[49m\u001B[43m,\u001B[49m\n\u001B[32m   1384\u001B[39m \u001B[43m    \u001B[49m\u001B[43mdatabase\u001B[49m\u001B[43m=\u001B[49m\u001B[43mdatabase\u001B[49m\u001B[43m,\u001B[49m\n\u001B[32m   1385\u001B[39m \u001B[43m    \u001B[49m\u001B[43mclient_settings\u001B[49m\u001B[43m=\u001B[49m\u001B[43mclient_settings\u001B[49m\u001B[43m,\u001B[49m\n\u001B[32m   1386\u001B[39m \u001B[43m    \u001B[49m\u001B[43mclient\u001B[49m\u001B[43m=\u001B[49m\u001B[43mclient\u001B[49m\u001B[43m,\u001B[49m\n\u001B[32m   1387\u001B[39m \u001B[43m    \u001B[49m\u001B[43mcollection_metadata\u001B[49m\u001B[43m=\u001B[49m\u001B[43mcollection_metadata\u001B[49m\u001B[43m,\u001B[49m\n\u001B[32m   1388\u001B[39m \u001B[43m    \u001B[49m\u001B[43mcollection_configuration\u001B[49m\u001B[43m=\u001B[49m\u001B[43mcollection_configuration\u001B[49m\u001B[43m,\u001B[49m\n\u001B[32m   1389\u001B[39m \u001B[43m    \u001B[49m\u001B[43m*\u001B[49m\u001B[43m*\u001B[49m\u001B[43mkwargs\u001B[49m\u001B[43m,\u001B[49m\n\u001B[32m   1390\u001B[39m \u001B[43m\u001B[49m\u001B[43m)\u001B[49m\n",
      "\u001B[36mFile \u001B[39m\u001B[32m~/PycharmProjects/ToonMate/.venv/lib/python3.13/site-packages/langchain_chroma/vectorstores.py:1304\u001B[39m, in \u001B[36mChroma.from_texts\u001B[39m\u001B[34m(cls, texts, embedding, metadatas, ids, collection_name, persist_directory, host, port, headers, chroma_cloud_api_key, tenant, database, client_settings, client, collection_metadata, collection_configuration, ssl, **kwargs)\u001B[39m\n\u001B[32m   1296\u001B[39m     \u001B[38;5;28;01mfrom\u001B[39;00m\u001B[38;5;250m \u001B[39m\u001B[34;01mchromadb\u001B[39;00m\u001B[34;01m.\u001B[39;00m\u001B[34;01mutils\u001B[39;00m\u001B[34;01m.\u001B[39;00m\u001B[34;01mbatch_utils\u001B[39;00m\u001B[38;5;250m \u001B[39m\u001B[38;5;28;01mimport\u001B[39;00m create_batches\n\u001B[32m   1298\u001B[39m     \u001B[38;5;28;01mfor\u001B[39;00m batch \u001B[38;5;129;01min\u001B[39;00m create_batches(\n\u001B[32m   1299\u001B[39m         api=chroma_collection._client,\n\u001B[32m   1300\u001B[39m         ids=ids,\n\u001B[32m   1301\u001B[39m         metadatas=metadatas,  \u001B[38;5;66;03m# type: ignore[arg-type]\u001B[39;00m\n\u001B[32m   1302\u001B[39m         documents=texts,\n\u001B[32m   1303\u001B[39m     ):\n\u001B[32m-> \u001B[39m\u001B[32m1304\u001B[39m         \u001B[43mchroma_collection\u001B[49m\u001B[43m.\u001B[49m\u001B[43madd_texts\u001B[49m\u001B[43m(\u001B[49m\n\u001B[32m   1305\u001B[39m \u001B[43m            \u001B[49m\u001B[43mtexts\u001B[49m\u001B[43m=\u001B[49m\u001B[43mbatch\u001B[49m\u001B[43m[\u001B[49m\u001B[32;43m3\u001B[39;49m\u001B[43m]\u001B[49m\u001B[43m \u001B[49m\u001B[38;5;28;43;01mif\u001B[39;49;00m\u001B[43m \u001B[49m\u001B[43mbatch\u001B[49m\u001B[43m[\u001B[49m\u001B[32;43m3\u001B[39;49m\u001B[43m]\u001B[49m\u001B[43m \u001B[49m\u001B[38;5;28;43;01melse\u001B[39;49;00m\u001B[43m \u001B[49m\u001B[43m[\u001B[49m\u001B[43m]\u001B[49m\u001B[43m,\u001B[49m\n\u001B[32m   1306\u001B[39m \u001B[43m            \u001B[49m\u001B[43mmetadatas\u001B[49m\u001B[43m=\u001B[49m\u001B[43mbatch\u001B[49m\u001B[43m[\u001B[49m\u001B[32;43m2\u001B[39;49m\u001B[43m]\u001B[49m\u001B[43m \u001B[49m\u001B[38;5;28;43;01mif\u001B[39;49;00m\u001B[43m \u001B[49m\u001B[43mbatch\u001B[49m\u001B[43m[\u001B[49m\u001B[32;43m2\u001B[39;49m\u001B[43m]\u001B[49m\u001B[43m \u001B[49m\u001B[38;5;28;43;01melse\u001B[39;49;00m\u001B[43m \u001B[49m\u001B[38;5;28;43;01mNone\u001B[39;49;00m\u001B[43m,\u001B[49m\u001B[43m  \u001B[49m\u001B[38;5;66;43;03m# type: ignore[arg-type]\u001B[39;49;00m\n\u001B[32m   1307\u001B[39m \u001B[43m            \u001B[49m\u001B[43mids\u001B[49m\u001B[43m=\u001B[49m\u001B[43mbatch\u001B[49m\u001B[43m[\u001B[49m\u001B[32;43m0\u001B[39;49m\u001B[43m]\u001B[49m\u001B[43m,\u001B[49m\n\u001B[32m   1308\u001B[39m \u001B[43m        \u001B[49m\u001B[43m)\u001B[49m\n\u001B[32m   1309\u001B[39m \u001B[38;5;28;01melse\u001B[39;00m:\n\u001B[32m   1310\u001B[39m     chroma_collection.add_texts(texts=texts, metadatas=metadatas, ids=ids)\n",
      "\u001B[36mFile \u001B[39m\u001B[32m~/PycharmProjects/ToonMate/.venv/lib/python3.13/site-packages/langchain_chroma/vectorstores.py:606\u001B[39m, in \u001B[36mChroma.add_texts\u001B[39m\u001B[34m(self, texts, metadatas, ids, **kwargs)\u001B[39m\n\u001B[32m    604\u001B[39m texts = \u001B[38;5;28mlist\u001B[39m(texts)\n\u001B[32m    605\u001B[39m \u001B[38;5;28;01mif\u001B[39;00m \u001B[38;5;28mself\u001B[39m._embedding_function \u001B[38;5;129;01mis\u001B[39;00m \u001B[38;5;129;01mnot\u001B[39;00m \u001B[38;5;28;01mNone\u001B[39;00m:\n\u001B[32m--> \u001B[39m\u001B[32m606\u001B[39m     embeddings = \u001B[38;5;28;43mself\u001B[39;49m\u001B[43m.\u001B[49m\u001B[43m_embedding_function\u001B[49m\u001B[43m.\u001B[49m\u001B[43membed_documents\u001B[49m\u001B[43m(\u001B[49m\u001B[43mtexts\u001B[49m\u001B[43m)\u001B[49m\n\u001B[32m    607\u001B[39m \u001B[38;5;28;01mif\u001B[39;00m metadatas:\n\u001B[32m    608\u001B[39m     \u001B[38;5;66;03m# fill metadatas with empty dicts if somebody\u001B[39;00m\n\u001B[32m    609\u001B[39m     \u001B[38;5;66;03m# did not specify metadata for all texts\u001B[39;00m\n\u001B[32m    610\u001B[39m     length_diff = \u001B[38;5;28mlen\u001B[39m(texts) - \u001B[38;5;28mlen\u001B[39m(metadatas)\n",
      "\u001B[36mFile \u001B[39m\u001B[32m~/PycharmProjects/ToonMate/.venv/lib/python3.13/site-packages/langchain_openai/embeddings/base.py:591\u001B[39m, in \u001B[36mOpenAIEmbeddings.embed_documents\u001B[39m\u001B[34m(self, texts, chunk_size, **kwargs)\u001B[39m\n\u001B[32m    588\u001B[39m \u001B[38;5;66;03m# NOTE: to keep things simple, we assume the list may contain texts longer\u001B[39;00m\n\u001B[32m    589\u001B[39m \u001B[38;5;66;03m#       than the maximum context and use length-safe embedding function.\u001B[39;00m\n\u001B[32m    590\u001B[39m engine = cast(\u001B[38;5;28mstr\u001B[39m, \u001B[38;5;28mself\u001B[39m.deployment)\n\u001B[32m--> \u001B[39m\u001B[32m591\u001B[39m \u001B[38;5;28;01mreturn\u001B[39;00m \u001B[38;5;28;43mself\u001B[39;49m\u001B[43m.\u001B[49m\u001B[43m_get_len_safe_embeddings\u001B[49m\u001B[43m(\u001B[49m\n\u001B[32m    592\u001B[39m \u001B[43m    \u001B[49m\u001B[43mtexts\u001B[49m\u001B[43m,\u001B[49m\u001B[43m \u001B[49m\u001B[43mengine\u001B[49m\u001B[43m=\u001B[49m\u001B[43mengine\u001B[49m\u001B[43m,\u001B[49m\u001B[43m \u001B[49m\u001B[43mchunk_size\u001B[49m\u001B[43m=\u001B[49m\u001B[43mchunk_size\u001B[49m\u001B[43m,\u001B[49m\u001B[43m \u001B[49m\u001B[43m*\u001B[49m\u001B[43m*\u001B[49m\u001B[43mkwargs\u001B[49m\n\u001B[32m    593\u001B[39m \u001B[43m\u001B[49m\u001B[43m)\u001B[49m\n",
      "\u001B[36mFile \u001B[39m\u001B[32m~/PycharmProjects/ToonMate/.venv/lib/python3.13/site-packages/langchain_openai/embeddings/base.py:479\u001B[39m, in \u001B[36mOpenAIEmbeddings._get_len_safe_embeddings\u001B[39m\u001B[34m(self, texts, engine, chunk_size, **kwargs)\u001B[39m\n\u001B[32m    477\u001B[39m batched_embeddings: \u001B[38;5;28mlist\u001B[39m[\u001B[38;5;28mlist\u001B[39m[\u001B[38;5;28mfloat\u001B[39m]] = []\n\u001B[32m    478\u001B[39m \u001B[38;5;28;01mfor\u001B[39;00m i \u001B[38;5;129;01min\u001B[39;00m _iter:\n\u001B[32m--> \u001B[39m\u001B[32m479\u001B[39m     response = \u001B[38;5;28;43mself\u001B[39;49m\u001B[43m.\u001B[49m\u001B[43mclient\u001B[49m\u001B[43m.\u001B[49m\u001B[43mcreate\u001B[49m\u001B[43m(\u001B[49m\n\u001B[32m    480\u001B[39m \u001B[43m        \u001B[49m\u001B[38;5;28;43minput\u001B[39;49m\u001B[43m=\u001B[49m\u001B[43mtokens\u001B[49m\u001B[43m[\u001B[49m\u001B[43mi\u001B[49m\u001B[43m \u001B[49m\u001B[43m:\u001B[49m\u001B[43m \u001B[49m\u001B[43mi\u001B[49m\u001B[43m \u001B[49m\u001B[43m+\u001B[49m\u001B[43m \u001B[49m\u001B[43m_chunk_size\u001B[49m\u001B[43m]\u001B[49m\u001B[43m,\u001B[49m\u001B[43m \u001B[49m\u001B[43m*\u001B[49m\u001B[43m*\u001B[49m\u001B[43mclient_kwargs\u001B[49m\n\u001B[32m    481\u001B[39m \u001B[43m    \u001B[49m\u001B[43m)\u001B[49m\n\u001B[32m    482\u001B[39m     \u001B[38;5;28;01mif\u001B[39;00m \u001B[38;5;129;01mnot\u001B[39;00m \u001B[38;5;28misinstance\u001B[39m(response, \u001B[38;5;28mdict\u001B[39m):\n\u001B[32m    483\u001B[39m         response = response.model_dump()\n",
      "\u001B[36mFile \u001B[39m\u001B[32m~/PycharmProjects/ToonMate/.venv/lib/python3.13/site-packages/openai/resources/embeddings.py:132\u001B[39m, in \u001B[36mEmbeddings.create\u001B[39m\u001B[34m(self, input, model, dimensions, encoding_format, user, extra_headers, extra_query, extra_body, timeout)\u001B[39m\n\u001B[32m    126\u001B[39m             embedding.embedding = np.frombuffer(  \u001B[38;5;66;03m# type: ignore[no-untyped-call]\u001B[39;00m\n\u001B[32m    127\u001B[39m                 base64.b64decode(data), dtype=\u001B[33m\"\u001B[39m\u001B[33mfloat32\u001B[39m\u001B[33m\"\u001B[39m\n\u001B[32m    128\u001B[39m             ).tolist()\n\u001B[32m    130\u001B[39m     \u001B[38;5;28;01mreturn\u001B[39;00m obj\n\u001B[32m--> \u001B[39m\u001B[32m132\u001B[39m \u001B[38;5;28;01mreturn\u001B[39;00m \u001B[38;5;28;43mself\u001B[39;49m\u001B[43m.\u001B[49m\u001B[43m_post\u001B[49m\u001B[43m(\u001B[49m\n\u001B[32m    133\u001B[39m \u001B[43m    \u001B[49m\u001B[33;43m\"\u001B[39;49m\u001B[33;43m/embeddings\u001B[39;49m\u001B[33;43m\"\u001B[39;49m\u001B[43m,\u001B[49m\n\u001B[32m    134\u001B[39m \u001B[43m    \u001B[49m\u001B[43mbody\u001B[49m\u001B[43m=\u001B[49m\u001B[43mmaybe_transform\u001B[49m\u001B[43m(\u001B[49m\u001B[43mparams\u001B[49m\u001B[43m,\u001B[49m\u001B[43m \u001B[49m\u001B[43membedding_create_params\u001B[49m\u001B[43m.\u001B[49m\u001B[43mEmbeddingCreateParams\u001B[49m\u001B[43m)\u001B[49m\u001B[43m,\u001B[49m\n\u001B[32m    135\u001B[39m \u001B[43m    \u001B[49m\u001B[43moptions\u001B[49m\u001B[43m=\u001B[49m\u001B[43mmake_request_options\u001B[49m\u001B[43m(\u001B[49m\n\u001B[32m    136\u001B[39m \u001B[43m        \u001B[49m\u001B[43mextra_headers\u001B[49m\u001B[43m=\u001B[49m\u001B[43mextra_headers\u001B[49m\u001B[43m,\u001B[49m\n\u001B[32m    137\u001B[39m \u001B[43m        \u001B[49m\u001B[43mextra_query\u001B[49m\u001B[43m=\u001B[49m\u001B[43mextra_query\u001B[49m\u001B[43m,\u001B[49m\n\u001B[32m    138\u001B[39m \u001B[43m        \u001B[49m\u001B[43mextra_body\u001B[49m\u001B[43m=\u001B[49m\u001B[43mextra_body\u001B[49m\u001B[43m,\u001B[49m\n\u001B[32m    139\u001B[39m \u001B[43m        \u001B[49m\u001B[43mtimeout\u001B[49m\u001B[43m=\u001B[49m\u001B[43mtimeout\u001B[49m\u001B[43m,\u001B[49m\n\u001B[32m    140\u001B[39m \u001B[43m        \u001B[49m\u001B[43mpost_parser\u001B[49m\u001B[43m=\u001B[49m\u001B[43mparser\u001B[49m\u001B[43m,\u001B[49m\n\u001B[32m    141\u001B[39m \u001B[43m    \u001B[49m\u001B[43m)\u001B[49m\u001B[43m,\u001B[49m\n\u001B[32m    142\u001B[39m \u001B[43m    \u001B[49m\u001B[43mcast_to\u001B[49m\u001B[43m=\u001B[49m\u001B[43mCreateEmbeddingResponse\u001B[49m\u001B[43m,\u001B[49m\n\u001B[32m    143\u001B[39m \u001B[43m\u001B[49m\u001B[43m)\u001B[49m\n",
      "\u001B[36mFile \u001B[39m\u001B[32m~/PycharmProjects/ToonMate/.venv/lib/python3.13/site-packages/openai/_base_client.py:1259\u001B[39m, in \u001B[36mSyncAPIClient.post\u001B[39m\u001B[34m(self, path, cast_to, body, options, files, stream, stream_cls)\u001B[39m\n\u001B[32m   1245\u001B[39m \u001B[38;5;28;01mdef\u001B[39;00m\u001B[38;5;250m \u001B[39m\u001B[34mpost\u001B[39m(\n\u001B[32m   1246\u001B[39m     \u001B[38;5;28mself\u001B[39m,\n\u001B[32m   1247\u001B[39m     path: \u001B[38;5;28mstr\u001B[39m,\n\u001B[32m   (...)\u001B[39m\u001B[32m   1254\u001B[39m     stream_cls: \u001B[38;5;28mtype\u001B[39m[_StreamT] | \u001B[38;5;28;01mNone\u001B[39;00m = \u001B[38;5;28;01mNone\u001B[39;00m,\n\u001B[32m   1255\u001B[39m ) -> ResponseT | _StreamT:\n\u001B[32m   1256\u001B[39m     opts = FinalRequestOptions.construct(\n\u001B[32m   1257\u001B[39m         method=\u001B[33m\"\u001B[39m\u001B[33mpost\u001B[39m\u001B[33m\"\u001B[39m, url=path, json_data=body, files=to_httpx_files(files), **options\n\u001B[32m   1258\u001B[39m     )\n\u001B[32m-> \u001B[39m\u001B[32m1259\u001B[39m     \u001B[38;5;28;01mreturn\u001B[39;00m cast(ResponseT, \u001B[38;5;28;43mself\u001B[39;49m\u001B[43m.\u001B[49m\u001B[43mrequest\u001B[49m\u001B[43m(\u001B[49m\u001B[43mcast_to\u001B[49m\u001B[43m,\u001B[49m\u001B[43m \u001B[49m\u001B[43mopts\u001B[49m\u001B[43m,\u001B[49m\u001B[43m \u001B[49m\u001B[43mstream\u001B[49m\u001B[43m=\u001B[49m\u001B[43mstream\u001B[49m\u001B[43m,\u001B[49m\u001B[43m \u001B[49m\u001B[43mstream_cls\u001B[49m\u001B[43m=\u001B[49m\u001B[43mstream_cls\u001B[49m\u001B[43m)\u001B[49m)\n",
      "\u001B[36mFile \u001B[39m\u001B[32m~/PycharmProjects/ToonMate/.venv/lib/python3.13/site-packages/openai/_base_client.py:1047\u001B[39m, in \u001B[36mSyncAPIClient.request\u001B[39m\u001B[34m(self, cast_to, options, stream, stream_cls)\u001B[39m\n\u001B[32m   1044\u001B[39m             err.response.read()\n\u001B[32m   1046\u001B[39m         log.debug(\u001B[33m\"\u001B[39m\u001B[33mRe-raising status error\u001B[39m\u001B[33m\"\u001B[39m)\n\u001B[32m-> \u001B[39m\u001B[32m1047\u001B[39m         \u001B[38;5;28;01mraise\u001B[39;00m \u001B[38;5;28mself\u001B[39m._make_status_error_from_response(err.response) \u001B[38;5;28;01mfrom\u001B[39;00m\u001B[38;5;250m \u001B[39m\u001B[38;5;28;01mNone\u001B[39;00m\n\u001B[32m   1049\u001B[39m     \u001B[38;5;28;01mbreak\u001B[39;00m\n\u001B[32m   1051\u001B[39m \u001B[38;5;28;01massert\u001B[39;00m response \u001B[38;5;129;01mis\u001B[39;00m \u001B[38;5;129;01mnot\u001B[39;00m \u001B[38;5;28;01mNone\u001B[39;00m, \u001B[33m\"\u001B[39m\u001B[33mcould not resolve response (should never happen)\u001B[39m\u001B[33m\"\u001B[39m\n",
      "\u001B[31mAuthenticationError\u001B[39m: Error code: 401 - {'error': {'message': \"You didn't provide an API key. You need to provide your API key in an Authorization header using Bearer auth (i.e. Authorization: Bearer YOUR_KEY), or as the password field (with blank username) if you're accessing the API from your browser and are prompted for a username and password. You can obtain an API key from https://platform.openai.com/account/api-keys.\", 'type': 'invalid_request_error', 'param': None, 'code': None}}"
     ]
    }
   ],
   "execution_count": 45
  }
 ],
 "metadata": {
  "kernelspec": {
   "display_name": "Python 3",
   "language": "python",
   "name": "python3"
  },
  "language_info": {
   "codemirror_mode": {
    "name": "ipython",
    "version": 2
   },
   "file_extension": ".py",
   "mimetype": "text/x-python",
   "name": "python",
   "nbconvert_exporter": "python",
   "pygments_lexer": "ipython2",
   "version": "2.7.6"
  }
 },
 "nbformat": 4,
 "nbformat_minor": 5
}
