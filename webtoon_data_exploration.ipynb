{
 "cells": [
  {
   "cell_type": "code",
   "id": "initial_id",
   "metadata": {
    "collapsed": true,
    "ExecuteTime": {
     "end_time": "2025-09-03T23:16:35.117710Z",
     "start_time": "2025-09-03T23:16:34.836594Z"
    }
   },
   "source": [
    "import kagglehub\n",
    "\n",
    "# Download latest version\n",
    "path = kagglehub.dataset_download(\"swarnimrai/webtoon-comics-dataset\")\n",
    "\n",
    "print(\"Path to dataset files:\", path)"
   ],
   "outputs": [
    {
     "name": "stdout",
     "output_type": "stream",
     "text": [
      "Path to dataset files: /Users/yjchoi/.cache/kagglehub/datasets/swarnimrai/webtoon-comics-dataset/versions/2\n"
     ]
    }
   ],
   "execution_count": 2
  },
  {
   "metadata": {
    "ExecuteTime": {
     "end_time": "2025-09-03T23:16:36.745871Z",
     "start_time": "2025-09-03T23:16:36.525822Z"
    }
   },
   "cell_type": "code",
   "source": "import pandas as pd",
   "id": "b37aa2b0d918fc02",
   "outputs": [],
   "execution_count": 3
  },
  {
   "metadata": {
    "ExecuteTime": {
     "end_time": "2025-09-03T23:17:01.804238Z",
     "start_time": "2025-09-03T23:17:01.769459Z"
    }
   },
   "cell_type": "code",
   "source": "webtoons = pd.read_csv(f\"{path}/Webtoon Dataset.csv\")",
   "id": "b340821098273220",
   "outputs": [],
   "execution_count": 5
  },
  {
   "metadata": {
    "ExecuteTime": {
     "end_time": "2025-09-03T23:17:35.185056Z",
     "start_time": "2025-09-03T23:17:35.166908Z"
    }
   },
   "cell_type": "code",
   "source": "webtoons",
   "id": "dc884677acebc8ea",
   "outputs": [
    {
     "data": {
      "text/plain": [
       "      id                      Name                      Writer     Likes  \\\n",
       "0      0                Let's Play  Leeanne M. Krecic (Mongie)     30.6M   \n",
       "1      1               True Beauty                     Yaongyi     39.9M   \n",
       "2      2       Midnight Poppy Land                    Lilydusk     10.4M   \n",
       "3      3               Age Matters                 Enjelicious     25.9M   \n",
       "4      4              Unholy Blood    Lina Im / Jeonghyeon Kim      9.9M   \n",
       "..   ...                       ...                         ...       ...   \n",
       "564  564       Third Shift Society           Meredith Moriarty  8,66,428   \n",
       "565  565                Adamsville              Michael Regina  1,84,981   \n",
       "566  566               WEBTOON Now      LOZOLZ / Wyatt the Cat      1.9M   \n",
       "567  567  Staying Healthy Together             Various Artists      1.5M   \n",
       "568  568        ã„´ã…‡ã„¹ã…‡ã„´ã„¹                      LOZOLZ  2,65,458   \n",
       "\n",
       "            Genre  Rating Subscribers  \\\n",
       "0         Romance    9.62        4.2M   \n",
       "1         Romance    9.60        6.4M   \n",
       "2         Romance    9.81        2.1M   \n",
       "3         Romance    9.79        3.5M   \n",
       "4    Supernatural    9.85        1.5M   \n",
       "..            ...     ...         ...   \n",
       "564  Supernatural    9.78      376.9K   \n",
       "565       Mystery    9.32       60.4K   \n",
       "566   Informative    9.25      459.2K   \n",
       "567   Informative    9.76      204.6K   \n",
       "568   Informative    8.83      109.1K   \n",
       "\n",
       "                                               Summary              Update  \\\n",
       "0    She's young, single and about to achieve her d...    UP EVERY TUESDAY   \n",
       "1    After binge-watching beauty videos online, a s...  UP EVERY WEDNESDAY   \n",
       "2    After making a grisly discovery in the country...   UP EVERY SATURDAY   \n",
       "3    She's a hopeless romantic who's turning 30's  ...  UP EVERY WEDNESDAY   \n",
       "4    When vampires destroy her chance to have the n...   UP EVERY THURSDAY   \n",
       "..                                                 ...                 ...   \n",
       "564  Life's funny. One minute you're jobless, deep ...     UP EVERY FRIDAY   \n",
       "565  \"Adamsville\" is an all ages series about two m...           COMPLETED   \n",
       "566                        Get your WEBTOON news here!     UP EVERY MONDAY   \n",
       "567  A series of tips for staying safe during the C...           COMPLETED   \n",
       "568  The mysterious team that brings Webtoon to you...           COMPLETED   \n",
       "\n",
       "                                          Reading Link  \n",
       "0    https://www.webtoons.com/en/romance/letsplay/l...  \n",
       "1    https://www.webtoons.com/en/romance/truebeauty...  \n",
       "2    https://www.webtoons.com/en/romance/midnight-p...  \n",
       "3    https://www.webtoons.com/en/romance/age-matter...  \n",
       "4    https://www.webtoons.com/en/supernatural/unhol...  \n",
       "..                                                 ...  \n",
       "564  https://www.webtoons.com/en/supernatural/third...  \n",
       "565  https://www.webtoons.com/en/mystery/adamsville...  \n",
       "566  https://www.webtoons.com/en/tiptoon/webtoon-no...  \n",
       "567  https://www.webtoons.com/en/tiptoon/staying-he...  \n",
       "568  https://www.webtoons.com/en/tiptoon/lozolz/lis...  \n",
       "\n",
       "[569 rows x 10 columns]"
      ],
      "text/html": [
       "<div>\n",
       "<style scoped>\n",
       "    .dataframe tbody tr th:only-of-type {\n",
       "        vertical-align: middle;\n",
       "    }\n",
       "\n",
       "    .dataframe tbody tr th {\n",
       "        vertical-align: top;\n",
       "    }\n",
       "\n",
       "    .dataframe thead th {\n",
       "        text-align: right;\n",
       "    }\n",
       "</style>\n",
       "<table border=\"1\" class=\"dataframe\">\n",
       "  <thead>\n",
       "    <tr style=\"text-align: right;\">\n",
       "      <th></th>\n",
       "      <th>id</th>\n",
       "      <th>Name</th>\n",
       "      <th>Writer</th>\n",
       "      <th>Likes</th>\n",
       "      <th>Genre</th>\n",
       "      <th>Rating</th>\n",
       "      <th>Subscribers</th>\n",
       "      <th>Summary</th>\n",
       "      <th>Update</th>\n",
       "      <th>Reading Link</th>\n",
       "    </tr>\n",
       "  </thead>\n",
       "  <tbody>\n",
       "    <tr>\n",
       "      <th>0</th>\n",
       "      <td>0</td>\n",
       "      <td>Let's Play</td>\n",
       "      <td>Leeanne M. Krecic (Mongie)</td>\n",
       "      <td>30.6M</td>\n",
       "      <td>Romance</td>\n",
       "      <td>9.62</td>\n",
       "      <td>4.2M</td>\n",
       "      <td>She's young, single and about to achieve her d...</td>\n",
       "      <td>UP EVERY TUESDAY</td>\n",
       "      <td>https://www.webtoons.com/en/romance/letsplay/l...</td>\n",
       "    </tr>\n",
       "    <tr>\n",
       "      <th>1</th>\n",
       "      <td>1</td>\n",
       "      <td>True Beauty</td>\n",
       "      <td>Yaongyi</td>\n",
       "      <td>39.9M</td>\n",
       "      <td>Romance</td>\n",
       "      <td>9.60</td>\n",
       "      <td>6.4M</td>\n",
       "      <td>After binge-watching beauty videos online, a s...</td>\n",
       "      <td>UP EVERY WEDNESDAY</td>\n",
       "      <td>https://www.webtoons.com/en/romance/truebeauty...</td>\n",
       "    </tr>\n",
       "    <tr>\n",
       "      <th>2</th>\n",
       "      <td>2</td>\n",
       "      <td>Midnight Poppy Land</td>\n",
       "      <td>Lilydusk</td>\n",
       "      <td>10.4M</td>\n",
       "      <td>Romance</td>\n",
       "      <td>9.81</td>\n",
       "      <td>2.1M</td>\n",
       "      <td>After making a grisly discovery in the country...</td>\n",
       "      <td>UP EVERY SATURDAY</td>\n",
       "      <td>https://www.webtoons.com/en/romance/midnight-p...</td>\n",
       "    </tr>\n",
       "    <tr>\n",
       "      <th>3</th>\n",
       "      <td>3</td>\n",
       "      <td>Age Matters</td>\n",
       "      <td>Enjelicious</td>\n",
       "      <td>25.9M</td>\n",
       "      <td>Romance</td>\n",
       "      <td>9.79</td>\n",
       "      <td>3.5M</td>\n",
       "      <td>She's a hopeless romantic who's turning 30's  ...</td>\n",
       "      <td>UP EVERY WEDNESDAY</td>\n",
       "      <td>https://www.webtoons.com/en/romance/age-matter...</td>\n",
       "    </tr>\n",
       "    <tr>\n",
       "      <th>4</th>\n",
       "      <td>4</td>\n",
       "      <td>Unholy Blood</td>\n",
       "      <td>Lina Im / Jeonghyeon Kim</td>\n",
       "      <td>9.9M</td>\n",
       "      <td>Supernatural</td>\n",
       "      <td>9.85</td>\n",
       "      <td>1.5M</td>\n",
       "      <td>When vampires destroy her chance to have the n...</td>\n",
       "      <td>UP EVERY THURSDAY</td>\n",
       "      <td>https://www.webtoons.com/en/supernatural/unhol...</td>\n",
       "    </tr>\n",
       "    <tr>\n",
       "      <th>...</th>\n",
       "      <td>...</td>\n",
       "      <td>...</td>\n",
       "      <td>...</td>\n",
       "      <td>...</td>\n",
       "      <td>...</td>\n",
       "      <td>...</td>\n",
       "      <td>...</td>\n",
       "      <td>...</td>\n",
       "      <td>...</td>\n",
       "      <td>...</td>\n",
       "    </tr>\n",
       "    <tr>\n",
       "      <th>564</th>\n",
       "      <td>564</td>\n",
       "      <td>Third Shift Society</td>\n",
       "      <td>Meredith Moriarty</td>\n",
       "      <td>8,66,428</td>\n",
       "      <td>Supernatural</td>\n",
       "      <td>9.78</td>\n",
       "      <td>376.9K</td>\n",
       "      <td>Life's funny. One minute you're jobless, deep ...</td>\n",
       "      <td>UP EVERY FRIDAY</td>\n",
       "      <td>https://www.webtoons.com/en/supernatural/third...</td>\n",
       "    </tr>\n",
       "    <tr>\n",
       "      <th>565</th>\n",
       "      <td>565</td>\n",
       "      <td>Adamsville</td>\n",
       "      <td>Michael Regina</td>\n",
       "      <td>1,84,981</td>\n",
       "      <td>Mystery</td>\n",
       "      <td>9.32</td>\n",
       "      <td>60.4K</td>\n",
       "      <td>\"Adamsville\" is an all ages series about two m...</td>\n",
       "      <td>COMPLETED</td>\n",
       "      <td>https://www.webtoons.com/en/mystery/adamsville...</td>\n",
       "    </tr>\n",
       "    <tr>\n",
       "      <th>566</th>\n",
       "      <td>566</td>\n",
       "      <td>WEBTOON Now</td>\n",
       "      <td>LOZOLZ / Wyatt the Cat</td>\n",
       "      <td>1.9M</td>\n",
       "      <td>Informative</td>\n",
       "      <td>9.25</td>\n",
       "      <td>459.2K</td>\n",
       "      <td>Get your WEBTOON news here!</td>\n",
       "      <td>UP EVERY MONDAY</td>\n",
       "      <td>https://www.webtoons.com/en/tiptoon/webtoon-no...</td>\n",
       "    </tr>\n",
       "    <tr>\n",
       "      <th>567</th>\n",
       "      <td>567</td>\n",
       "      <td>Staying Healthy Together</td>\n",
       "      <td>Various Artists</td>\n",
       "      <td>1.5M</td>\n",
       "      <td>Informative</td>\n",
       "      <td>9.76</td>\n",
       "      <td>204.6K</td>\n",
       "      <td>A series of tips for staying safe during the C...</td>\n",
       "      <td>COMPLETED</td>\n",
       "      <td>https://www.webtoons.com/en/tiptoon/staying-he...</td>\n",
       "    </tr>\n",
       "    <tr>\n",
       "      <th>568</th>\n",
       "      <td>568</td>\n",
       "      <td>ã„´ã…‡ã„¹ã…‡ã„´ã„¹</td>\n",
       "      <td>LOZOLZ</td>\n",
       "      <td>2,65,458</td>\n",
       "      <td>Informative</td>\n",
       "      <td>8.83</td>\n",
       "      <td>109.1K</td>\n",
       "      <td>The mysterious team that brings Webtoon to you...</td>\n",
       "      <td>COMPLETED</td>\n",
       "      <td>https://www.webtoons.com/en/tiptoon/lozolz/lis...</td>\n",
       "    </tr>\n",
       "  </tbody>\n",
       "</table>\n",
       "<p>569 rows × 10 columns</p>\n",
       "</div>"
      ]
     },
     "execution_count": 6,
     "metadata": {},
     "output_type": "execute_result"
    }
   ],
   "execution_count": 6
  },
  {
   "metadata": {
    "ExecuteTime": {
     "end_time": "2025-09-03T23:25:06.633120Z",
     "start_time": "2025-09-03T23:25:06.320333Z"
    }
   },
   "cell_type": "code",
   "source": [
    "import seaborn as sns\n",
    "import matplotlib.pyplot as plt"
   ],
   "id": "824e3af74b33c35a",
   "outputs": [],
   "execution_count": 7
  },
  {
   "metadata": {
    "ExecuteTime": {
     "end_time": "2025-09-03T23:26:02.777195Z",
     "start_time": "2025-09-03T23:26:02.356563Z"
    }
   },
   "cell_type": "code",
   "source": [
    "ax = plt.axes()\n",
    "sns.heatmap(webtoons.isna().transpose(), cbar=False, ax=ax)\n",
    "\n",
    "plt.xlabel(\"Columns\")\n",
    "plt.ylabel(\"Missing values\")\n",
    "\n",
    "plt.show()"
   ],
   "id": "a7e550f0aabed9cc",
   "outputs": [
    {
     "data": {
      "text/plain": [
       "<Figure size 640x480 with 1 Axes>"
      ],
      "image/png": "[encoded data removed]"
     },
     "metadata": {},
     "output_type": "display_data"
    }
   ],
   "execution_count": 8
  }
 ],
 "metadata": {
  "kernelspec": {
   "display_name": "Python 3",
   "language": "python",
   "name": "python3"
  },
  "language_info": {
   "codemirror_mode": {
    "name": "ipython",
    "version": 2
   },
   "file_extension": ".py",
   "mimetype": "text/x-python",
   "name": "python",
   "nbconvert_exporter": "python",
   "pygments_lexer": "ipython2",
   "version": "2.7.6"
  }
 },
 "nbformat": 4,
 "nbformat_minor": 5
}
